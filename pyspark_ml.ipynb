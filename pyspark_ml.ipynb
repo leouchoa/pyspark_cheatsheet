{
 "cells": [
  {
   "cell_type": "code",
   "execution_count": 22,
   "metadata": {},
   "outputs": [],
   "source": [
    "# wrangling\n",
    "from pyspark.sql import SparkSession\n",
    "from pyspark.sql.types import StringType, DateType, FloatType\n",
    "from pyspark.sql.functions import col,when\n",
    "\n",
    "# modelling\n",
    "from pyspark.ml.feature import OneHotEncoder\n",
    "from pyspark.ml.feature import VectorAssembler\n",
    "from pyspark.ml.regression import LinearRegression\n",
    "from pyspark.ml.feature import StringIndexer\n",
    "\n",
    "spark=SparkSession.builder.appName('pyspark_test').getOrCreate()\n",
    "\n",
    "df = spark.read.option('header','true').csv('ggplot2_diamonds.csv',inferSchema=True)"
   ]
  },
  {
   "cell_type": "code",
   "execution_count": 2,
   "metadata": {},
   "outputs": [
    {
     "name": "stdout",
     "output_type": "stream",
     "text": [
      "root\n",
      " |-- carat: string (nullable = true)\n",
      " |-- cut: string (nullable = true)\n",
      " |-- color: string (nullable = true)\n",
      " |-- clarity: string (nullable = true)\n",
      " |-- depth: string (nullable = true)\n",
      " |-- table: double (nullable = true)\n",
      " |-- price: string (nullable = true)\n",
      " |-- x: double (nullable = true)\n",
      " |-- y: double (nullable = true)\n",
      " |-- z: double (nullable = true)\n",
      "\n"
     ]
    }
   ],
   "source": [
    "df.printSchema()"
   ]
  },
  {
   "cell_type": "code",
   "execution_count": 5,
   "metadata": {},
   "outputs": [],
   "source": [
    "\n",
    "float_cols = ['carat','depth','table','price']\n",
    "\n",
    "for col in float_cols:\n",
    "    df = df.withColumn(col,df[col].cast(FloatType()))\n"
   ]
  },
  {
   "cell_type": "code",
   "execution_count": 6,
   "metadata": {},
   "outputs": [
    {
     "name": "stdout",
     "output_type": "stream",
     "text": [
      "root\n",
      " |-- carat: float (nullable = true)\n",
      " |-- cut: string (nullable = true)\n",
      " |-- color: string (nullable = true)\n",
      " |-- clarity: string (nullable = true)\n",
      " |-- depth: float (nullable = true)\n",
      " |-- table: float (nullable = true)\n",
      " |-- price: float (nullable = true)\n",
      " |-- x: double (nullable = true)\n",
      " |-- y: double (nullable = true)\n",
      " |-- z: double (nullable = true)\n",
      "\n"
     ]
    }
   ],
   "source": [
    "str_cols = ['color','cut','clarity']\n",
    "\n",
    "for col in str_cols:\n",
    "    df = df.withColumn(col,df[col].cast(StringType()))\n",
    "\n",
    "df.printSchema()"
   ]
  },
  {
   "cell_type": "code",
   "execution_count": 10,
   "metadata": {},
   "outputs": [
    {
     "name": "stdout",
     "output_type": "stream",
     "text": [
      "+-----+---------+-----+-------+-----+-----+-----+----+----+----+\n",
      "|carat|      cut|color|clarity|depth|table|price|   x|   y|   z|\n",
      "+-----+---------+-----+-------+-----+-----+-----+----+----+----+\n",
      "| 0.23|     Good|    E|    VS1| 56.9| 65.0|327.0|4.05|4.07|2.31|\n",
      "| 0.29|  Premium|    I|    VS2| 62.4| 58.0|334.0| 4.2|4.23|2.63|\n",
      "| 0.24|Very Good|    J|   VVS2| 62.8| 57.0|336.0|3.94|3.96|2.48|\n",
      "| 0.24|Very Good|    I|   VVS1| 62.3| 57.0|336.0|3.95|3.98|2.47|\n",
      "| 0.23|Very Good|    H|    VS1| 59.4| 61.0|338.0| 4.0|4.05|2.39|\n",
      "+-----+---------+-----+-------+-----+-----+-----+----+----+----+\n",
      "only showing top 5 rows\n",
      "\n"
     ]
    }
   ],
   "source": [
    "df = df.select([when(col(c)==\"NA\",None).otherwise(col(c)).alias(c) for c in df.columns]).dropna()\n",
    "df.show(5)"
   ]
  },
  {
   "cell_type": "code",
   "execution_count": 13,
   "metadata": {},
   "outputs": [
    {
     "name": "stdout",
     "output_type": "stream",
     "text": [
      "+-----+---------+-----+-------+-----+-----+-----+\n",
      "|carat|      cut|color|clarity|depth|table|price|\n",
      "+-----+---------+-----+-------+-----+-----+-----+\n",
      "| 0.23|     Good|    E|    VS1| 56.9| 65.0|327.0|\n",
      "| 0.29|  Premium|    I|    VS2| 62.4| 58.0|334.0|\n",
      "| 0.24|Very Good|    J|   VVS2| 62.8| 57.0|336.0|\n",
      "| 0.24|Very Good|    I|   VVS1| 62.3| 57.0|336.0|\n",
      "| 0.23|Very Good|    H|    VS1| 59.4| 61.0|338.0|\n",
      "+-----+---------+-----+-------+-----+-----+-----+\n",
      "only showing top 5 rows\n",
      "\n"
     ]
    }
   ],
   "source": [
    "df = df.drop(*['x','y','z'])\n",
    "df.show(5)"
   ]
  },
  {
   "cell_type": "markdown",
   "metadata": {},
   "source": [
    "## One-hot Encoding\n",
    "\n",
    "To create one-hot (or dummy) encoding in `pyspark` we actually must before transform the string column to be a numeric column (with `StringIndexer`), so that the `OneHotEncoder` can be used."
   ]
  },
  {
   "cell_type": "code",
   "execution_count": 45,
   "metadata": {},
   "outputs": [
    {
     "name": "stdout",
     "output_type": "stream",
     "text": [
      "+-----+-----+-----+-----+----------+--------+------------+\n",
      "|carat|depth|table|price|color_idxd|cut_idxd|clarity_idxd|\n",
      "+-----+-----+-----+-----+----------+--------+------------+\n",
      "| 0.23| 56.9| 65.0|327.0|       1.0|     3.0|         3.0|\n",
      "| 0.29| 62.4| 58.0|334.0|       5.0|     1.0|         1.0|\n",
      "| 0.24| 62.8| 57.0|336.0|       6.0|     2.0|         4.0|\n",
      "| 0.24| 62.3| 57.0|336.0|       5.0|     2.0|         5.0|\n",
      "| 0.23| 59.4| 61.0|338.0|       3.0|     2.0|         3.0|\n",
      "|  0.3| 64.0| 55.0|339.0|       6.0|     3.0|         0.0|\n",
      "| 0.23| 62.8| 56.0|340.0|       6.0|     0.0|         3.0|\n",
      "| 0.22| 60.4| 61.0|342.0|       2.0|     1.0|         0.0|\n",
      "| 0.31| 62.2| 54.0|344.0|       6.0|     0.0|         2.0|\n",
      "|  0.2| 60.2| 62.0|345.0|       1.0|     1.0|         2.0|\n",
      "| 0.32| 60.9| 58.0|345.0|       1.0|     1.0|         7.0|\n",
      "|  0.3| 62.0| 54.0|348.0|       5.0|     0.0|         2.0|\n",
      "|  0.3| 63.4| 54.0|351.0|       6.0|     3.0|         0.0|\n",
      "|  0.3| 63.8| 56.0|351.0|       6.0|     3.0|         0.0|\n",
      "|  0.3| 62.7| 59.0|351.0|       6.0|     2.0|         0.0|\n",
      "|  0.3| 63.3| 56.0|351.0|       5.0|     3.0|         2.0|\n",
      "| 0.23| 63.8| 55.0|352.0|       1.0|     2.0|         1.0|\n",
      "| 0.23| 61.0| 57.0|353.0|       3.0|     2.0|         3.0|\n",
      "| 0.31| 59.4| 62.0|353.0|       6.0|     2.0|         0.0|\n",
      "| 0.31| 58.1| 62.0|353.0|       6.0|     2.0|         0.0|\n",
      "+-----+-----+-----+-----+----------+--------+------------+\n",
      "only showing top 20 rows\n",
      "\n"
     ]
    }
   ],
   "source": [
    "indexer=StringIndexer(\n",
    "    inputCols=str_cols,\n",
    "    outputCols=[f\"{x}_idxd\" for x in str_cols]\n",
    "    # outputCols=[x for x in str_cols]\n",
    "    )\n",
    "df_preprocd = indexer.fit(df).transform(df)\n",
    "df_preprocd = df_preprocd.drop(*str_cols)\n",
    "df_preprocd.show()"
   ]
  },
  {
   "cell_type": "code",
   "execution_count": 46,
   "metadata": {},
   "outputs": [
    {
     "name": "stdout",
     "output_type": "stream",
     "text": [
      "+-----+-----+-----+-----+-------------+-------------+--------------+\n",
      "|carat|depth|table|price| color_onehot|   cut_onehot|clarity_onehot|\n",
      "+-----+-----+-----+-----+-------------+-------------+--------------+\n",
      "| 0.23| 56.9| 65.0|327.0|(6,[1],[1.0])|(4,[3],[1.0])| (7,[3],[1.0])|\n",
      "| 0.29| 62.4| 58.0|334.0|(6,[5],[1.0])|(4,[1],[1.0])| (7,[1],[1.0])|\n",
      "| 0.24| 62.8| 57.0|336.0|    (6,[],[])|(4,[2],[1.0])| (7,[4],[1.0])|\n",
      "| 0.24| 62.3| 57.0|336.0|(6,[5],[1.0])|(4,[2],[1.0])| (7,[5],[1.0])|\n",
      "| 0.23| 59.4| 61.0|338.0|(6,[3],[1.0])|(4,[2],[1.0])| (7,[3],[1.0])|\n",
      "|  0.3| 64.0| 55.0|339.0|    (6,[],[])|(4,[3],[1.0])| (7,[0],[1.0])|\n",
      "| 0.23| 62.8| 56.0|340.0|    (6,[],[])|(4,[0],[1.0])| (7,[3],[1.0])|\n",
      "| 0.22| 60.4| 61.0|342.0|(6,[2],[1.0])|(4,[1],[1.0])| (7,[0],[1.0])|\n",
      "| 0.31| 62.2| 54.0|344.0|    (6,[],[])|(4,[0],[1.0])| (7,[2],[1.0])|\n",
      "|  0.2| 60.2| 62.0|345.0|(6,[1],[1.0])|(4,[1],[1.0])| (7,[2],[1.0])|\n",
      "| 0.32| 60.9| 58.0|345.0|(6,[1],[1.0])|(4,[1],[1.0])|     (7,[],[])|\n",
      "|  0.3| 62.0| 54.0|348.0|(6,[5],[1.0])|(4,[0],[1.0])| (7,[2],[1.0])|\n",
      "|  0.3| 63.4| 54.0|351.0|    (6,[],[])|(4,[3],[1.0])| (7,[0],[1.0])|\n",
      "|  0.3| 63.8| 56.0|351.0|    (6,[],[])|(4,[3],[1.0])| (7,[0],[1.0])|\n",
      "|  0.3| 62.7| 59.0|351.0|    (6,[],[])|(4,[2],[1.0])| (7,[0],[1.0])|\n",
      "|  0.3| 63.3| 56.0|351.0|(6,[5],[1.0])|(4,[3],[1.0])| (7,[2],[1.0])|\n",
      "| 0.23| 63.8| 55.0|352.0|(6,[1],[1.0])|(4,[2],[1.0])| (7,[1],[1.0])|\n",
      "| 0.23| 61.0| 57.0|353.0|(6,[3],[1.0])|(4,[2],[1.0])| (7,[3],[1.0])|\n",
      "| 0.31| 59.4| 62.0|353.0|    (6,[],[])|(4,[2],[1.0])| (7,[0],[1.0])|\n",
      "| 0.31| 58.1| 62.0|353.0|    (6,[],[])|(4,[2],[1.0])| (7,[0],[1.0])|\n",
      "+-----+-----+-----+-----+-------------+-------------+--------------+\n",
      "only showing top 20 rows\n",
      "\n"
     ]
    }
   ],
   "source": [
    "df_preprocd = OneHotEncoder(\n",
    "    inputCols=[f\"{x}_idxd\" for x in str_cols], \n",
    "    outputCols=[f\"{x}_onehot\" for x in str_cols]).fit(df_preprocd).transform(df_preprocd)\n",
    "\n",
    "df_preprocd = df_preprocd.drop(*[f\"{x}_idxd\" for x in str_cols])\n",
    "df_preprocd.show()\n"
   ]
  },
  {
   "cell_type": "code",
   "execution_count": 61,
   "metadata": {},
   "outputs": [
    {
     "name": "stdout",
     "output_type": "stream",
     "text": [
      "6 input features:  ['carat', 'depth', 'table', 'color_onehot', 'cut_onehot', 'clarity_onehot']\n",
      "5 target feature:  price\n"
     ]
    }
   ],
   "source": [
    "x_cols = [x for i,x in enumerate(df_preprocd.columns) if i!=3]\n",
    "y_col = df_preprocd.columns[3]\n",
    "\n",
    "print(f\"{len(x_cols)} input features: \", x_cols)\n",
    "print(f\"{len(y_col)} target feature: \", y_col)\n",
    "\n",
    "feature_assembler = VectorAssembler(inputCols=x_cols,outputCol=\"Independent Features\")\n",
    "\n",
    "output = feature_assembler.transform(df_preprocd)\n",
    "\n",
    "finalized_data = output.select(\"Independent Features\",\"price\")"
   ]
  },
  {
   "cell_type": "code",
   "execution_count": 62,
   "metadata": {},
   "outputs": [
    {
     "name": "stderr",
     "output_type": "stream",
     "text": [
      "21/10/23 18:54:22 WARN Instrumentation: [55d4efb4] regParam is zero, which might cause numerical instability and overfitting.\n"
     ]
    }
   ],
   "source": [
    "train_data,test_data = finalized_data.randomSplit([0.75,0.25])\n",
    "\n",
    "reg_mod = LinearRegression(featuresCol='Independent Features', labelCol='price')\n",
    "reg_mod = reg_mod.fit(train_data)"
   ]
  },
  {
   "cell_type": "code",
   "execution_count": 65,
   "metadata": {},
   "outputs": [
    {
     "name": "stdout",
     "output_type": "stream",
     "text": [
      "beta_0 =  -6767.218762526329\n",
      "\n",
      "betas =  [8890.69146916395,-21.16052620291968,-25.98069163061147,1829.2136865696657,2123.6974198736366,2029.0240294657042,1365.6891615753918,2340.81558093979,907.6108490391551,844.2172022020659,781.6305891250361,750.4149729154112,590.0332706819676,3553.9951395185285,4197.658289927469,2608.2137356053468,4503.666623574199,4940.714685195995,5038.463333974973,5378.490954739035]\n"
     ]
    }
   ],
   "source": [
    "print(\"beta_0 = \", reg_mod.intercept)\n",
    "print()\n",
    "print(\"betas = \", reg_mod.coefficients)\n"
   ]
  },
  {
   "cell_type": "code",
   "execution_count": 67,
   "metadata": {},
   "outputs": [
    {
     "name": "stderr",
     "output_type": "stream",
     "text": [
      "/home/leo/anaconda3/envs/pyspark_test/lib/python3.9/site-packages/pyspark/sql/context.py:125: FutureWarning: Deprecated in 3.0.0. Use SparkSession.builder.getOrCreate() instead.\n",
      "  warnings.warn(\n"
     ]
    },
    {
     "name": "stdout",
     "output_type": "stream",
     "text": [
      "+--------------------+------+-------------------+\n",
      "|Independent Features| price|         prediction|\n",
      "+--------------------+------+-------------------+\n",
      "|(20,[0,1,2],[0.99...|1789.0|-1081.6903173489527|\n",
      "|(20,[0,1,2],[2.26...|5733.0| 10555.261124186756|\n",
      "|(20,[0,1,2],[2.72...|6870.0| 14517.395734187776|\n",
      "|(20,[0,1,2,3],[0....| 701.0|-3418.4707996315865|\n",
      "|(20,[0,1,2,3],[0....| 727.0|-3346.8769471774294|\n",
      "|(20,[0,1,2,3],[0....| 727.0|-3327.2443165424925|\n",
      "|(20,[0,1,2,3],[0....| 956.0| -1554.866226368771|\n",
      "|(20,[0,1,2,3],[0....|1651.0| -266.5236221006544|\n",
      "|(20,[0,1,2,3],[1....|2723.0| 1166.1824873980895|\n",
      "|(20,[0,1,2,3],[1....|2398.0| 1124.4494790351573|\n",
      "|(20,[0,1,2,3],[1....|2655.0| 2939.1491515412235|\n",
      "|(20,[0,1,2,3],[1....|4277.0|  3627.511736143704|\n",
      "|(20,[0,1,2,3],[2....|6346.0| 10153.337700695865|\n",
      "|(20,[0,1,2,3],[2....|6817.0| 11567.467984743194|\n",
      "|(20,[0,1,2,3],[2....|7257.0| 12718.353479403188|\n",
      "|(20,[0,1,2,3,9],[...|1019.0| -1766.044531940901|\n",
      "|(20,[0,1,2,3,9],[...|6186.0|  6865.450228109838|\n",
      "|(20,[0,1,2,3,9],[...|6299.0|  6865.450228109838|\n",
      "|(20,[0,1,2,3,9,13...| 375.0|-1244.8766103106318|\n",
      "|(20,[0,1,2,3,9,13...| 377.0| -964.8715799215497|\n",
      "+--------------------+------+-------------------+\n",
      "only showing top 20 rows\n",
      "\n"
     ]
    },
    {
     "name": "stderr",
     "output_type": "stream",
     "text": []
    }
   ],
   "source": [
    "pred_results = reg_mod.evaluate(test_data)\n",
    "\n",
    "pred_results.predictions.show()"
   ]
  },
  {
   "cell_type": "code",
   "execution_count": 69,
   "metadata": {},
   "outputs": [
    {
     "name": "stdout",
     "output_type": "stream",
     "text": [
      "R2 =  0.916647262352352\n",
      "MAE =  810.7700722108757\n",
      "MSE =  1347424.5779997462\n"
     ]
    }
   ],
   "source": [
    "print(\"R2 = \",pred_results.r2)\n",
    "print(\"MAE = \",pred_results.meanAbsoluteError)\n",
    "print(\"MSE = \",pred_results.meanSquaredError)"
   ]
  },
  {
   "cell_type": "code",
   "execution_count": null,
   "metadata": {},
   "outputs": [],
   "source": []
  }
 ],
 "metadata": {
  "interpreter": {
   "hash": "7037a25f4fe077c1e1c04d2d2e8fdb300af47b3ac0d99a576e998498f574b554"
  },
  "kernelspec": {
   "display_name": "Python 3.9.7 64-bit ('pyspark_test': conda)",
   "name": "python3"
  },
  "language_info": {
   "codemirror_mode": {
    "name": "ipython",
    "version": 3
   },
   "file_extension": ".py",
   "mimetype": "text/x-python",
   "name": "python",
   "nbconvert_exporter": "python",
   "pygments_lexer": "ipython3",
   "version": "3.9.7"
  },
  "orig_nbformat": 4
 },
 "nbformat": 4,
 "nbformat_minor": 2
}
