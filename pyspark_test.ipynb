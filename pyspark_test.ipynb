{
 "cells": [
  {
   "cell_type": "markdown",
   "metadata": {},
   "source": [
    "# Importing libs and reading csv"
   ]
  },
  {
   "cell_type": "code",
   "execution_count": 45,
   "metadata": {},
   "outputs": [],
   "source": [
    "from pyspark.sql import SparkSession\n",
    "\n",
    "spark=SparkSession.builder.appName('pyspark_test').getOrCreate()\n",
    "\n",
    "df = spark.read.option('header','true').csv('ggplot2_diamonds.csv',inferSchema=True)\n",
    "\n",
    "# option for detecting NAs as null, but i'll stick without it to show how to deal \n",
    "# with overall NAs\n",
    "# df = spark.read.csv('ggplot2_diamonds.csv', sep=',', header=True, inferSchema=True,\n",
    "#                          nullValue='NA')\n"
   ]
  },
  {
   "cell_type": "markdown",
   "metadata": {},
   "source": [
    "# Printing Options"
   ]
  },
  {
   "cell_type": "code",
   "execution_count": 46,
   "metadata": {},
   "outputs": [
    {
     "name": "stdout",
     "output_type": "stream",
     "text": [
      "root\n",
      " |-- carat: string (nullable = true)\n",
      " |-- cut: string (nullable = true)\n",
      " |-- color: string (nullable = true)\n",
      " |-- clarity: string (nullable = true)\n",
      " |-- depth: string (nullable = true)\n",
      " |-- table: double (nullable = true)\n",
      " |-- price: string (nullable = true)\n",
      " |-- x: double (nullable = true)\n",
      " |-- y: double (nullable = true)\n",
      " |-- z: double (nullable = true)\n",
      "\n"
     ]
    }
   ],
   "source": [
    "df.printSchema()"
   ]
  },
  {
   "cell_type": "code",
   "execution_count": 47,
   "metadata": {},
   "outputs": [
    {
     "data": {
      "text/plain": [
       "[Row(carat='0.23', cut='Ideal', color='NA', clarity='SI2', depth='61.5', table=55.0, price='326', x=3.95, y=3.98, z=2.43),\n",
       " Row(carat='0.21', cut='Premium', color='E', clarity='SI1', depth='59.8', table=61.0, price='NA', x=3.89, y=3.84, z=2.31),\n",
       " Row(carat='0.23', cut='Good', color='E', clarity='VS1', depth='56.9', table=65.0, price='327', x=4.05, y=4.07, z=2.31),\n",
       " Row(carat='0.29', cut='Premium', color='I', clarity='VS2', depth='62.4', table=58.0, price='334', x=4.2, y=4.23, z=2.63),\n",
       " Row(carat='0.31', cut='Good', color='J', clarity='SI2', depth='NA', table=58.0, price='335', x=4.34, y=4.35, z=2.75)]"
      ]
     },
     "execution_count": 47,
     "metadata": {},
     "output_type": "execute_result"
    }
   ],
   "source": [
    "df.head(5)"
   ]
  },
  {
   "cell_type": "code",
   "execution_count": 48,
   "metadata": {},
   "outputs": [
    {
     "name": "stdout",
     "output_type": "stream",
     "text": [
      "+-----+---------+-----+-------+-----+-----+-----+----+----+----+\n",
      "|carat|      cut|color|clarity|depth|table|price|   x|   y|   z|\n",
      "+-----+---------+-----+-------+-----+-----+-----+----+----+----+\n",
      "| 0.23|    Ideal|   NA|    SI2| 61.5| 55.0|  326|3.95|3.98|2.43|\n",
      "| 0.21|  Premium|    E|    SI1| 59.8| 61.0|   NA|3.89|3.84|2.31|\n",
      "| 0.23|     Good|    E|    VS1| 56.9| 65.0|  327|4.05|4.07|2.31|\n",
      "| 0.29|  Premium|    I|    VS2| 62.4| 58.0|  334| 4.2|4.23|2.63|\n",
      "| 0.31|     Good|    J|    SI2|   NA| 58.0|  335|4.34|4.35|2.75|\n",
      "| 0.24|Very Good|    J|   VVS2| 62.8| 57.0|  336|3.94|3.96|2.48|\n",
      "| 0.24|Very Good|    I|   VVS1| 62.3| 57.0|  336|3.95|3.98|2.47|\n",
      "|   NA|Very Good|    H|    SI1| 61.9| 55.0|  337|4.07|4.11|2.53|\n",
      "| 0.22|     Fair|    E|     NA| 65.1| 61.0|  337|3.87|3.78|2.49|\n",
      "| 0.23|Very Good|    H|    VS1| 59.4| 61.0|  338| 4.0|4.05|2.39|\n",
      "+-----+---------+-----+-------+-----+-----+-----+----+----+----+\n",
      "only showing top 10 rows\n",
      "\n"
     ]
    }
   ],
   "source": [
    "df.show(10)"
   ]
  },
  {
   "cell_type": "code",
   "execution_count": 49,
   "metadata": {},
   "outputs": [
    {
     "name": "stderr",
     "output_type": "stream",
     "text": []
    },
    {
     "name": "stdout",
     "output_type": "stream",
     "text": [
      "+-------+-------------------+---------+-----+-------+------------------+------------------+------------------+------------------+------------------+------------------+\n",
      "|summary|              carat|      cut|color|clarity|             depth|             table|             price|                 x|                 y|                 z|\n",
      "+-------+-------------------+---------+-----+-------+------------------+------------------+------------------+------------------+------------------+------------------+\n",
      "|  count|              53940|    53940|53940|  53940|             53940|             53940|             53940|             53940|             53940|             53940|\n",
      "|   mean|  0.797949720981092|     null| null|   null| 61.74937614712838| 57.45718390804603|3932.8665900368937| 5.731157211716609| 5.734525954764462|3.5387337782723316|\n",
      "| stddev|0.47400997915312215|     null| null|   null|1.4326190412759938|2.2344905628213247|3989.4464914438868|1.1217607467924915|1.1421346741235616|0.7056988469499883|\n",
      "|    min|                0.2|     Fair|    D|     I1|                43|              43.0|              1000|               0.0|               0.0|               0.0|\n",
      "|    max|                 NA|Very Good|   NA|   VVS2|                NA|              95.0|                NA|             10.74|              58.9|              31.8|\n",
      "+-------+-------------------+---------+-----+-------+------------------+------------------+------------------+------------------+------------------+------------------+\n",
      "\n"
     ]
    },
    {
     "name": "stderr",
     "output_type": "stream",
     "text": []
    }
   ],
   "source": [
    "df.describe().show()"
   ]
  },
  {
   "cell_type": "markdown",
   "metadata": {},
   "source": [
    "# Operating with columns"
   ]
  },
  {
   "cell_type": "markdown",
   "metadata": {},
   "source": [
    "## Selecting columns"
   ]
  },
  {
   "cell_type": "code",
   "execution_count": 50,
   "metadata": {},
   "outputs": [
    {
     "data": {
      "text/plain": [
       "Column<'carat'>"
      ]
     },
     "execution_count": 50,
     "metadata": {},
     "output_type": "execute_result"
    }
   ],
   "source": [
    "df['carat']"
   ]
  },
  {
   "cell_type": "code",
   "execution_count": 110,
   "metadata": {},
   "outputs": [
    {
     "data": {
      "text/plain": [
       "DataFrame[color: string, clarity: string, table: float]"
      ]
     },
     "execution_count": 110,
     "metadata": {},
     "output_type": "execute_result"
    }
   ],
   "source": [
    "asd_cols = ['color','clarity','table']\n",
    "\n",
    "df.select(*asd_cols)"
   ]
  },
  {
   "cell_type": "markdown",
   "metadata": {},
   "source": [
    "## Add new column"
   ]
  },
  {
   "cell_type": "code",
   "execution_count": 52,
   "metadata": {},
   "outputs": [
    {
     "name": "stdout",
     "output_type": "stream",
     "text": [
      "+-----+-------+-----+-------+-----+-----+-----+----+----+----+-------------+\n",
      "|carat|    cut|color|clarity|depth|table|price|   x|   y|   z|table_doubled|\n",
      "+-----+-------+-----+-------+-----+-----+-----+----+----+----+-------------+\n",
      "| 0.23|  Ideal|   NA|    SI2| 61.5| 55.0|  326|3.95|3.98|2.43|        110.0|\n",
      "| 0.21|Premium|    E|    SI1| 59.8| 61.0|   NA|3.89|3.84|2.31|        122.0|\n",
      "| 0.23|   Good|    E|    VS1| 56.9| 65.0|  327|4.05|4.07|2.31|        130.0|\n",
      "| 0.29|Premium|    I|    VS2| 62.4| 58.0|  334| 4.2|4.23|2.63|        116.0|\n",
      "| 0.31|   Good|    J|    SI2|   NA| 58.0|  335|4.34|4.35|2.75|        116.0|\n",
      "+-----+-------+-----+-------+-----+-----+-----+----+----+----+-------------+\n",
      "only showing top 5 rows\n",
      "\n"
     ]
    }
   ],
   "source": [
    "df = df.withColumn('table_doubled',2 * df['table'])\n",
    "df.show(5)"
   ]
  },
  {
   "cell_type": "markdown",
   "metadata": {},
   "source": [
    "## Drop column"
   ]
  },
  {
   "cell_type": "code",
   "execution_count": 53,
   "metadata": {},
   "outputs": [
    {
     "name": "stdout",
     "output_type": "stream",
     "text": [
      "+-----+-------+-----+-------+-----+-----+-----+----+----+----+\n",
      "|carat|    cut|color|clarity|depth|table|price|   x|   y|   z|\n",
      "+-----+-------+-----+-------+-----+-----+-----+----+----+----+\n",
      "| 0.23|  Ideal|   NA|    SI2| 61.5| 55.0|  326|3.95|3.98|2.43|\n",
      "| 0.21|Premium|    E|    SI1| 59.8| 61.0|   NA|3.89|3.84|2.31|\n",
      "| 0.23|   Good|    E|    VS1| 56.9| 65.0|  327|4.05|4.07|2.31|\n",
      "| 0.29|Premium|    I|    VS2| 62.4| 58.0|  334| 4.2|4.23|2.63|\n",
      "| 0.31|   Good|    J|    SI2|   NA| 58.0|  335|4.34|4.35|2.75|\n",
      "+-----+-------+-----+-------+-----+-----+-----+----+----+----+\n",
      "only showing top 5 rows\n",
      "\n"
     ]
    }
   ],
   "source": [
    "df = df.drop('table_doubled')\n",
    "df.show(5)"
   ]
  },
  {
   "cell_type": "markdown",
   "metadata": {},
   "source": [
    "## Rename column"
   ]
  },
  {
   "cell_type": "code",
   "execution_count": 54,
   "metadata": {},
   "outputs": [
    {
     "name": "stdout",
     "output_type": "stream",
     "text": [
      "+-----+---------+-----+-------+-----+-----+-----+------+----+----+\n",
      "|carat|      cut|color|clarity|depth|table|price|asdasd|   y|   z|\n",
      "+-----+---------+-----+-------+-----+-----+-----+------+----+----+\n",
      "| 0.23|    Ideal|   NA|    SI2| 61.5| 55.0|  326|  3.95|3.98|2.43|\n",
      "| 0.21|  Premium|    E|    SI1| 59.8| 61.0|   NA|  3.89|3.84|2.31|\n",
      "| 0.23|     Good|    E|    VS1| 56.9| 65.0|  327|  4.05|4.07|2.31|\n",
      "| 0.29|  Premium|    I|    VS2| 62.4| 58.0|  334|   4.2|4.23|2.63|\n",
      "| 0.31|     Good|    J|    SI2|   NA| 58.0|  335|  4.34|4.35|2.75|\n",
      "| 0.24|Very Good|    J|   VVS2| 62.8| 57.0|  336|  3.94|3.96|2.48|\n",
      "| 0.24|Very Good|    I|   VVS1| 62.3| 57.0|  336|  3.95|3.98|2.47|\n",
      "|   NA|Very Good|    H|    SI1| 61.9| 55.0|  337|  4.07|4.11|2.53|\n",
      "| 0.22|     Fair|    E|     NA| 65.1| 61.0|  337|  3.87|3.78|2.49|\n",
      "| 0.23|Very Good|    H|    VS1| 59.4| 61.0|  338|   4.0|4.05|2.39|\n",
      "|  0.3|     Good|    J|    SI1|   64| 55.0|  339|  4.25|4.28|2.73|\n",
      "| 0.23|    Ideal|    J|    VS1| 62.8| 56.0|  340|  3.93| 3.9|2.46|\n",
      "| 0.22|  Premium|    F|    SI1| 60.4| 61.0|  342|  3.88|3.84|2.33|\n",
      "| 0.31|    Ideal|    J|    SI2| 62.2| 54.0|  344|  4.35|4.37|2.71|\n",
      "|  0.2|  Premium|    E|    SI2| 60.2| 62.0|  345|  3.79|3.75|2.27|\n",
      "| 0.32|  Premium|    E|     I1| 60.9| 58.0|  345|  4.38|4.42|2.68|\n",
      "|  0.3|    Ideal|    I|    SI2|   62| 54.0|  348|  4.31|4.34|2.68|\n",
      "|  0.3|     Good|    J|    SI1| 63.4| 54.0|  351|  4.23|4.29| 2.7|\n",
      "|  0.3|     Good|    J|    SI1| 63.8| 56.0|  351|  4.23|4.26|2.71|\n",
      "|  0.3|Very Good|    J|    SI1| 62.7| 59.0|  351|  4.21|4.27|2.66|\n",
      "+-----+---------+-----+-------+-----+-----+-----+------+----+----+\n",
      "only showing top 20 rows\n",
      "\n"
     ]
    }
   ],
   "source": [
    "df.withColumnRenamed('x','asdasd').show()"
   ]
  },
  {
   "cell_type": "markdown",
   "metadata": {},
   "source": [
    "## Casting column types"
   ]
  },
  {
   "cell_type": "markdown",
   "metadata": {},
   "source": [
    "### Option 01: use python builtin datatypes"
   ]
  },
  {
   "cell_type": "code",
   "execution_count": 55,
   "metadata": {},
   "outputs": [
    {
     "name": "stdout",
     "output_type": "stream",
     "text": [
      "root\n",
      " |-- carat: float (nullable = true)\n",
      " |-- cut: string (nullable = true)\n",
      " |-- color: string (nullable = true)\n",
      " |-- clarity: string (nullable = true)\n",
      " |-- depth: string (nullable = true)\n",
      " |-- table: double (nullable = true)\n",
      " |-- price: string (nullable = true)\n",
      " |-- x: double (nullable = true)\n",
      " |-- y: double (nullable = true)\n",
      " |-- z: double (nullable = true)\n",
      "\n"
     ]
    }
   ],
   "source": [
    "df.withColumn(\"carat\",df[\"carat\"].cast('float')).printSchema()"
   ]
  },
  {
   "cell_type": "markdown",
   "metadata": {},
   "source": [
    "### Option 02: use pyspark datatypes (preferable)"
   ]
  },
  {
   "cell_type": "code",
   "execution_count": 56,
   "metadata": {},
   "outputs": [
    {
     "name": "stdout",
     "output_type": "stream",
     "text": [
      "root\n",
      " |-- carat: float (nullable = true)\n",
      " |-- cut: string (nullable = true)\n",
      " |-- color: string (nullable = true)\n",
      " |-- clarity: string (nullable = true)\n",
      " |-- depth: float (nullable = true)\n",
      " |-- table: float (nullable = true)\n",
      " |-- price: float (nullable = true)\n",
      " |-- x: double (nullable = true)\n",
      " |-- y: double (nullable = true)\n",
      " |-- z: double (nullable = true)\n",
      "\n"
     ]
    }
   ],
   "source": [
    "from pyspark.sql.types import StringType, DateType, FloatType\n",
    "\n",
    "float_cols = ['carat','depth','table','price']\n",
    "\n",
    "for col in float_cols:\n",
    "    df = df.withColumn(col,df[col].cast(FloatType()))\n",
    "\n",
    "df.printSchema()"
   ]
  },
  {
   "cell_type": "code",
   "execution_count": 57,
   "metadata": {},
   "outputs": [
    {
     "name": "stdout",
     "output_type": "stream",
     "text": [
      "root\n",
      " |-- carat: float (nullable = true)\n",
      " |-- cut: string (nullable = true)\n",
      " |-- color: string (nullable = true)\n",
      " |-- clarity: string (nullable = true)\n",
      " |-- depth: float (nullable = true)\n",
      " |-- table: float (nullable = true)\n",
      " |-- price: float (nullable = true)\n",
      " |-- x: double (nullable = true)\n",
      " |-- y: double (nullable = true)\n",
      " |-- z: double (nullable = true)\n",
      "\n"
     ]
    }
   ],
   "source": [
    "str_cols = ['color','cut','clarity']\n",
    "\n",
    "for col in str_cols:\n",
    "    df = df.withColumn(col,df[col].cast(StringType()))\n",
    "\n",
    "df.printSchema()"
   ]
  },
  {
   "cell_type": "markdown",
   "metadata": {},
   "source": [
    "# Removing NAs\n",
    "\n",
    "\n",
    "Notice that we have `NA`s in rows number 1,2,4,8,9"
   ]
  },
  {
   "cell_type": "code",
   "execution_count": 58,
   "metadata": {},
   "outputs": [
    {
     "name": "stdout",
     "output_type": "stream",
     "text": [
      "+-----+---------+-----+-------+-----+-----+-----+----+----+----+\n",
      "|carat|      cut|color|clarity|depth|table|price|   x|   y|   z|\n",
      "+-----+---------+-----+-------+-----+-----+-----+----+----+----+\n",
      "| 0.23|    Ideal|   NA|    SI2| 61.5| 55.0|326.0|3.95|3.98|2.43|\n",
      "| 0.21|  Premium|    E|    SI1| 59.8| 61.0| null|3.89|3.84|2.31|\n",
      "| 0.23|     Good|    E|    VS1| 56.9| 65.0|327.0|4.05|4.07|2.31|\n",
      "| 0.29|  Premium|    I|    VS2| 62.4| 58.0|334.0| 4.2|4.23|2.63|\n",
      "| 0.31|     Good|    J|    SI2| null| 58.0|335.0|4.34|4.35|2.75|\n",
      "| 0.24|Very Good|    J|   VVS2| 62.8| 57.0|336.0|3.94|3.96|2.48|\n",
      "| 0.24|Very Good|    I|   VVS1| 62.3| 57.0|336.0|3.95|3.98|2.47|\n",
      "| null|Very Good|    H|    SI1| 61.9| 55.0|337.0|4.07|4.11|2.53|\n",
      "| 0.22|     Fair|    E|     NA| 65.1| 61.0|337.0|3.87|3.78|2.49|\n",
      "| 0.23|Very Good|    H|    VS1| 59.4| 61.0|338.0| 4.0|4.05|2.39|\n",
      "|  0.3|     Good|    J|    SI1| 64.0| 55.0|339.0|4.25|4.28|2.73|\n",
      "| 0.23|    Ideal|    J|    VS1| 62.8| 56.0|340.0|3.93| 3.9|2.46|\n",
      "| 0.22|  Premium|    F|    SI1| 60.4| 61.0|342.0|3.88|3.84|2.33|\n",
      "| 0.31|    Ideal|    J|    SI2| 62.2| 54.0|344.0|4.35|4.37|2.71|\n",
      "|  0.2|  Premium|    E|    SI2| 60.2| 62.0|345.0|3.79|3.75|2.27|\n",
      "+-----+---------+-----+-------+-----+-----+-----+----+----+----+\n",
      "only showing top 15 rows\n",
      "\n"
     ]
    }
   ],
   "source": [
    "df.show(15)"
   ]
  },
  {
   "cell_type": "code",
   "execution_count": 59,
   "metadata": {},
   "outputs": [
    {
     "name": "stdout",
     "output_type": "stream",
     "text": [
      "+-----+---------+-----+-------+-----+-----+-----+----+----+----+\n",
      "|carat|      cut|color|clarity|depth|table|price|   x|   y|   z|\n",
      "+-----+---------+-----+-------+-----+-----+-----+----+----+----+\n",
      "| 0.23|    Ideal|   NA|    SI2| 61.5| 55.0|326.0|3.95|3.98|2.43|\n",
      "| 0.23|     Good|    E|    VS1| 56.9| 65.0|327.0|4.05|4.07|2.31|\n",
      "| 0.29|  Premium|    I|    VS2| 62.4| 58.0|334.0| 4.2|4.23|2.63|\n",
      "| 0.24|Very Good|    J|   VVS2| 62.8| 57.0|336.0|3.94|3.96|2.48|\n",
      "| 0.24|Very Good|    I|   VVS1| 62.3| 57.0|336.0|3.95|3.98|2.47|\n",
      "| 0.22|     Fair|    E|     NA| 65.1| 61.0|337.0|3.87|3.78|2.49|\n",
      "| 0.23|Very Good|    H|    VS1| 59.4| 61.0|338.0| 4.0|4.05|2.39|\n",
      "|  0.3|     Good|    J|    SI1| 64.0| 55.0|339.0|4.25|4.28|2.73|\n",
      "| 0.23|    Ideal|    J|    VS1| 62.8| 56.0|340.0|3.93| 3.9|2.46|\n",
      "| 0.22|  Premium|    F|    SI1| 60.4| 61.0|342.0|3.88|3.84|2.33|\n",
      "| 0.31|    Ideal|    J|    SI2| 62.2| 54.0|344.0|4.35|4.37|2.71|\n",
      "|  0.2|  Premium|    E|    SI2| 60.2| 62.0|345.0|3.79|3.75|2.27|\n",
      "| 0.32|  Premium|    E|     I1| 60.9| 58.0|345.0|4.38|4.42|2.68|\n",
      "|  0.3|    Ideal|    I|    SI2| 62.0| 54.0|348.0|4.31|4.34|2.68|\n",
      "|  0.3|     Good|    J|    SI1| 63.4| 54.0|351.0|4.23|4.29| 2.7|\n",
      "+-----+---------+-----+-------+-----+-----+-----+----+----+----+\n",
      "only showing top 15 rows\n",
      "\n"
     ]
    }
   ],
   "source": [
    "df.na.drop().show(15)"
   ]
  },
  {
   "cell_type": "markdown",
   "metadata": {},
   "source": [
    "The `df.na.drop()` method indeed drops `NA` rows but only for float types, not fot strings. The reason why this is happening is that `pyspark` understands that `NA` is a string and not a null, so we must convert the `NA` string into the `null` datatype.\n",
    "\n",
    "Lets do it for one column (`color`) to see how this can be done."
   ]
  },
  {
   "cell_type": "code",
   "execution_count": 60,
   "metadata": {},
   "outputs": [
    {
     "name": "stdout",
     "output_type": "stream",
     "text": [
      "+-----+---------+-----+-------+-----+-----+-----+----+----+----+\n",
      "|carat|      cut|color|clarity|depth|table|price|   x|   y|   z|\n",
      "+-----+---------+-----+-------+-----+-----+-----+----+----+----+\n",
      "| 0.23|    Ideal| null|    SI2| 61.5| 55.0|326.0|3.95|3.98|2.43|\n",
      "| 0.21|  Premium|    E|    SI1| 59.8| 61.0| null|3.89|3.84|2.31|\n",
      "| 0.23|     Good|    E|    VS1| 56.9| 65.0|327.0|4.05|4.07|2.31|\n",
      "| 0.29|  Premium|    I|    VS2| 62.4| 58.0|334.0| 4.2|4.23|2.63|\n",
      "| 0.31|     Good|    J|    SI2| null| 58.0|335.0|4.34|4.35|2.75|\n",
      "| 0.24|Very Good|    J|   VVS2| 62.8| 57.0|336.0|3.94|3.96|2.48|\n",
      "| 0.24|Very Good|    I|   VVS1| 62.3| 57.0|336.0|3.95|3.98|2.47|\n",
      "| null|Very Good|    H|    SI1| 61.9| 55.0|337.0|4.07|4.11|2.53|\n",
      "| 0.22|     Fair|    E|     NA| 65.1| 61.0|337.0|3.87|3.78|2.49|\n",
      "| 0.23|Very Good|    H|    VS1| 59.4| 61.0|338.0| 4.0|4.05|2.39|\n",
      "|  0.3|     Good|    J|    SI1| 64.0| 55.0|339.0|4.25|4.28|2.73|\n",
      "| 0.23|    Ideal|    J|    VS1| 62.8| 56.0|340.0|3.93| 3.9|2.46|\n",
      "| 0.22|  Premium|    F|    SI1| 60.4| 61.0|342.0|3.88|3.84|2.33|\n",
      "| 0.31|    Ideal|    J|    SI2| 62.2| 54.0|344.0|4.35|4.37|2.71|\n",
      "|  0.2|  Premium|    E|    SI2| 60.2| 62.0|345.0|3.79|3.75|2.27|\n",
      "| 0.32|  Premium|    E|     I1| 60.9| 58.0|345.0|4.38|4.42|2.68|\n",
      "|  0.3|    Ideal|    I|    SI2| 62.0| 54.0|348.0|4.31|4.34|2.68|\n",
      "|  0.3|     Good|    J|    SI1| 63.4| 54.0|351.0|4.23|4.29| 2.7|\n",
      "|  0.3|     Good|    J|    SI1| 63.8| 56.0|351.0|4.23|4.26|2.71|\n",
      "|  0.3|Very Good|    J|    SI1| 62.7| 59.0|351.0|4.21|4.27|2.66|\n",
      "+-----+---------+-----+-------+-----+-----+-----+----+----+----+\n",
      "only showing top 20 rows\n",
      "\n"
     ]
    }
   ],
   "source": [
    "from pyspark.sql.functions import col,when\n",
    "\n",
    "\n",
    "df.withColumn(\"color\", when(col(\"color\")==\"NA\" ,None).otherwise(col(\"color\"))).show()\n",
    "\n"
   ]
  },
  {
   "cell_type": "code",
   "execution_count": 119,
   "metadata": {},
   "outputs": [
    {
     "name": "stdout",
     "output_type": "stream",
     "text": [
      "+-----+---+-----+-------+-----+-----+-----+---+---+---+\n",
      "|carat|cut|color|clarity|depth|table|price|  x|  y|  z|\n",
      "+-----+---+-----+-------+-----+-----+-----+---+---+---+\n",
      "|    1|  0|    1|      1|    1|    0|    1|  0|  0|  0|\n",
      "+-----+---+-----+-------+-----+-----+-----+---+---+---+\n",
      "\n"
     ]
    }
   ],
   "source": [
    "import pyspark.sql.functions as f\n",
    "df.agg(*[f.count(f.when(f.isnull(c), c)).alias(c) for c in df.columns]).show()"
   ]
  },
  {
   "cell_type": "markdown",
   "metadata": {},
   "source": [
    "Now we loop through the `str` columns."
   ]
  },
  {
   "cell_type": "code",
   "execution_count": 61,
   "metadata": {},
   "outputs": [
    {
     "name": "stdout",
     "output_type": "stream",
     "text": [
      "+-----+---------+-------+\n",
      "|color|      cut|clarity|\n",
      "+-----+---------+-------+\n",
      "| null|    Ideal|    SI2|\n",
      "|    E|  Premium|    SI1|\n",
      "|    E|     Good|    VS1|\n",
      "|    I|  Premium|    VS2|\n",
      "|    J|     Good|    SI2|\n",
      "|    J|Very Good|   VVS2|\n",
      "|    I|Very Good|   VVS1|\n",
      "|    H|Very Good|    SI1|\n",
      "|    E|     Fair|   null|\n",
      "|    H|Very Good|    VS1|\n",
      "+-----+---------+-------+\n",
      "only showing top 10 rows\n",
      "\n"
     ]
    }
   ],
   "source": [
    "df.select([when(col(c)==\"NA\",None).otherwise(col(c)).alias(c) for c in str_cols]).show(10)"
   ]
  },
  {
   "cell_type": "code",
   "execution_count": 62,
   "metadata": {},
   "outputs": [
    {
     "name": "stdout",
     "output_type": "stream",
     "text": [
      "+-----+---------+-----+-------+-----+-----+-----+----+----+----+\n",
      "|carat|      cut|color|clarity|depth|table|price|   x|   y|   z|\n",
      "+-----+---------+-----+-------+-----+-----+-----+----+----+----+\n",
      "| 0.23|    Ideal| null|    SI2| 61.5| 55.0|326.0|3.95|3.98|2.43|\n",
      "| 0.21|  Premium|    E|    SI1| 59.8| 61.0| null|3.89|3.84|2.31|\n",
      "| 0.23|     Good|    E|    VS1| 56.9| 65.0|327.0|4.05|4.07|2.31|\n",
      "| 0.29|  Premium|    I|    VS2| 62.4| 58.0|334.0| 4.2|4.23|2.63|\n",
      "| 0.31|     Good|    J|    SI2| null| 58.0|335.0|4.34|4.35|2.75|\n",
      "| 0.24|Very Good|    J|   VVS2| 62.8| 57.0|336.0|3.94|3.96|2.48|\n",
      "| 0.24|Very Good|    I|   VVS1| 62.3| 57.0|336.0|3.95|3.98|2.47|\n",
      "| null|Very Good|    H|    SI1| 61.9| 55.0|337.0|4.07|4.11|2.53|\n",
      "| 0.22|     Fair|    E|   null| 65.1| 61.0|337.0|3.87|3.78|2.49|\n",
      "| 0.23|Very Good|    H|    VS1| 59.4| 61.0|338.0| 4.0|4.05|2.39|\n",
      "+-----+---------+-----+-------+-----+-----+-----+----+----+----+\n",
      "only showing top 10 rows\n",
      "\n"
     ]
    }
   ],
   "source": [
    "df = df.select([when(col(c)==\"NA\",None).otherwise(col(c)).alias(c) for c in df.columns])\n",
    "df.show(10)"
   ]
  },
  {
   "cell_type": "code",
   "execution_count": 63,
   "metadata": {},
   "outputs": [
    {
     "name": "stdout",
     "output_type": "stream",
     "text": [
      "+-----+---------+-----+-------+-----+-----+-----+----+----+----+\n",
      "|carat|      cut|color|clarity|depth|table|price|   x|   y|   z|\n",
      "+-----+---------+-----+-------+-----+-----+-----+----+----+----+\n",
      "| 0.23|     Good|    E|    VS1| 56.9| 65.0|327.0|4.05|4.07|2.31|\n",
      "| 0.29|  Premium|    I|    VS2| 62.4| 58.0|334.0| 4.2|4.23|2.63|\n",
      "| 0.24|Very Good|    J|   VVS2| 62.8| 57.0|336.0|3.94|3.96|2.48|\n",
      "| 0.24|Very Good|    I|   VVS1| 62.3| 57.0|336.0|3.95|3.98|2.47|\n",
      "| 0.23|Very Good|    H|    VS1| 59.4| 61.0|338.0| 4.0|4.05|2.39|\n",
      "|  0.3|     Good|    J|    SI1| 64.0| 55.0|339.0|4.25|4.28|2.73|\n",
      "| 0.23|    Ideal|    J|    VS1| 62.8| 56.0|340.0|3.93| 3.9|2.46|\n",
      "| 0.22|  Premium|    F|    SI1| 60.4| 61.0|342.0|3.88|3.84|2.33|\n",
      "| 0.31|    Ideal|    J|    SI2| 62.2| 54.0|344.0|4.35|4.37|2.71|\n",
      "|  0.2|  Premium|    E|    SI2| 60.2| 62.0|345.0|3.79|3.75|2.27|\n",
      "| 0.32|  Premium|    E|     I1| 60.9| 58.0|345.0|4.38|4.42|2.68|\n",
      "|  0.3|    Ideal|    I|    SI2| 62.0| 54.0|348.0|4.31|4.34|2.68|\n",
      "|  0.3|     Good|    J|    SI1| 63.4| 54.0|351.0|4.23|4.29| 2.7|\n",
      "|  0.3|     Good|    J|    SI1| 63.8| 56.0|351.0|4.23|4.26|2.71|\n",
      "|  0.3|Very Good|    J|    SI1| 62.7| 59.0|351.0|4.21|4.27|2.66|\n",
      "+-----+---------+-----+-------+-----+-----+-----+----+----+----+\n",
      "only showing top 15 rows\n",
      "\n"
     ]
    }
   ],
   "source": [
    "df.na.drop().show(15)"
   ]
  },
  {
   "cell_type": "markdown",
   "metadata": {},
   "source": [
    "# filling missing values"
   ]
  },
  {
   "cell_type": "code",
   "execution_count": 65,
   "metadata": {},
   "outputs": [
    {
     "name": "stdout",
     "output_type": "stream",
     "text": [
      "+-----+---------+--------------+--------------+-----+-----+-----+----+----+----+\n",
      "|carat|      cut|         color|       clarity|depth|table|price|   x|   y|   z|\n",
      "+-----+---------+--------------+--------------+-----+-----+-----+----+----+----+\n",
      "| 0.23|    Ideal|Missing Values|           SI2| 61.5| 55.0|326.0|3.95|3.98|2.43|\n",
      "| 0.21|  Premium|             E|           SI1| 59.8| 61.0| null|3.89|3.84|2.31|\n",
      "| 0.23|     Good|             E|           VS1| 56.9| 65.0|327.0|4.05|4.07|2.31|\n",
      "| 0.29|  Premium|             I|           VS2| 62.4| 58.0|334.0| 4.2|4.23|2.63|\n",
      "| 0.31|     Good|             J|           SI2| null| 58.0|335.0|4.34|4.35|2.75|\n",
      "| 0.24|Very Good|             J|          VVS2| 62.8| 57.0|336.0|3.94|3.96|2.48|\n",
      "| 0.24|Very Good|             I|          VVS1| 62.3| 57.0|336.0|3.95|3.98|2.47|\n",
      "| null|Very Good|             H|           SI1| 61.9| 55.0|337.0|4.07|4.11|2.53|\n",
      "| 0.22|     Fair|             E|Missing Values| 65.1| 61.0|337.0|3.87|3.78|2.49|\n",
      "| 0.23|Very Good|             H|           VS1| 59.4| 61.0|338.0| 4.0|4.05|2.39|\n",
      "|  0.3|     Good|             J|           SI1| 64.0| 55.0|339.0|4.25|4.28|2.73|\n",
      "| 0.23|    Ideal|             J|           VS1| 62.8| 56.0|340.0|3.93| 3.9|2.46|\n",
      "| 0.22|  Premium|             F|           SI1| 60.4| 61.0|342.0|3.88|3.84|2.33|\n",
      "| 0.31|    Ideal|             J|           SI2| 62.2| 54.0|344.0|4.35|4.37|2.71|\n",
      "|  0.2|  Premium|             E|           SI2| 60.2| 62.0|345.0|3.79|3.75|2.27|\n",
      "| 0.32|  Premium|             E|            I1| 60.9| 58.0|345.0|4.38|4.42|2.68|\n",
      "|  0.3|    Ideal|             I|           SI2| 62.0| 54.0|348.0|4.31|4.34|2.68|\n",
      "|  0.3|     Good|             J|           SI1| 63.4| 54.0|351.0|4.23|4.29| 2.7|\n",
      "|  0.3|     Good|             J|           SI1| 63.8| 56.0|351.0|4.23|4.26|2.71|\n",
      "|  0.3|Very Good|             J|           SI1| 62.7| 59.0|351.0|4.21|4.27|2.66|\n",
      "+-----+---------+--------------+--------------+-----+-----+-----+----+----+----+\n",
      "only showing top 20 rows\n",
      "\n"
     ]
    }
   ],
   "source": [
    "df.na.fill('Missing Values',str_cols).show()"
   ]
  },
  {
   "cell_type": "markdown",
   "metadata": {},
   "source": [
    "# Imputing missing values"
   ]
  },
  {
   "cell_type": "code",
   "execution_count": 66,
   "metadata": {},
   "outputs": [],
   "source": [
    "from pyspark.ml.feature import Imputer\n",
    "\n",
    "imputer = Imputer(\n",
    "    inputCols=float_cols, \n",
    "    outputCols=[\"{}_imputed\".format(c) for c in float_cols]\n",
    "    ).setStrategy(\"median\")"
   ]
  },
  {
   "cell_type": "code",
   "execution_count": 68,
   "metadata": {},
   "outputs": [
    {
     "name": "stdout",
     "output_type": "stream",
     "text": [
      "+-----+---------+-----+-------+-----+-----+-----+----+----+----+-------------+-------------+-------------+-------------+\n",
      "|carat|      cut|color|clarity|depth|table|price|   x|   y|   z|carat_imputed|depth_imputed|table_imputed|price_imputed|\n",
      "+-----+---------+-----+-------+-----+-----+-----+----+----+----+-------------+-------------+-------------+-------------+\n",
      "| 0.23|    Ideal| null|    SI2| 61.5| 55.0|326.0|3.95|3.98|2.43|         0.23|         61.5|         55.0|        326.0|\n",
      "| 0.21|  Premium|    E|    SI1| 59.8| 61.0| null|3.89|3.84|2.31|         0.21|         59.8|         61.0|       2400.0|\n",
      "| 0.23|     Good|    E|    VS1| 56.9| 65.0|327.0|4.05|4.07|2.31|         0.23|         56.9|         65.0|        327.0|\n",
      "| 0.29|  Premium|    I|    VS2| 62.4| 58.0|334.0| 4.2|4.23|2.63|         0.29|         62.4|         58.0|        334.0|\n",
      "| 0.31|     Good|    J|    SI2| null| 58.0|335.0|4.34|4.35|2.75|         0.31|         61.8|         58.0|        335.0|\n",
      "| 0.24|Very Good|    J|   VVS2| 62.8| 57.0|336.0|3.94|3.96|2.48|         0.24|         62.8|         57.0|        336.0|\n",
      "| 0.24|Very Good|    I|   VVS1| 62.3| 57.0|336.0|3.95|3.98|2.47|         0.24|         62.3|         57.0|        336.0|\n",
      "| null|Very Good|    H|    SI1| 61.9| 55.0|337.0|4.07|4.11|2.53|          0.7|         61.9|         55.0|        337.0|\n",
      "| 0.22|     Fair|    E|   null| 65.1| 61.0|337.0|3.87|3.78|2.49|         0.22|         65.1|         61.0|        337.0|\n",
      "| 0.23|Very Good|    H|    VS1| 59.4| 61.0|338.0| 4.0|4.05|2.39|         0.23|         59.4|         61.0|        338.0|\n",
      "|  0.3|     Good|    J|    SI1| 64.0| 55.0|339.0|4.25|4.28|2.73|          0.3|         64.0|         55.0|        339.0|\n",
      "| 0.23|    Ideal|    J|    VS1| 62.8| 56.0|340.0|3.93| 3.9|2.46|         0.23|         62.8|         56.0|        340.0|\n",
      "| 0.22|  Premium|    F|    SI1| 60.4| 61.0|342.0|3.88|3.84|2.33|         0.22|         60.4|         61.0|        342.0|\n",
      "| 0.31|    Ideal|    J|    SI2| 62.2| 54.0|344.0|4.35|4.37|2.71|         0.31|         62.2|         54.0|        344.0|\n",
      "|  0.2|  Premium|    E|    SI2| 60.2| 62.0|345.0|3.79|3.75|2.27|          0.2|         60.2|         62.0|        345.0|\n",
      "+-----+---------+-----+-------+-----+-----+-----+----+----+----+-------------+-------------+-------------+-------------+\n",
      "only showing top 15 rows\n",
      "\n"
     ]
    }
   ],
   "source": [
    "imputer.fit(df).transform(df).show(15)"
   ]
  },
  {
   "cell_type": "code",
   "execution_count": 69,
   "metadata": {},
   "outputs": [
    {
     "name": "stdout",
     "output_type": "stream",
     "text": [
      "+-----+---------+-----+-------+-----+-----+------+----+----+----+\n",
      "|carat|      cut|color|clarity|depth|table| price|   x|   y|   z|\n",
      "+-----+---------+-----+-------+-----+-----+------+----+----+----+\n",
      "| 0.23|    Ideal| null|    SI2| 61.5| 55.0| 326.0|3.95|3.98|2.43|\n",
      "| 0.21|  Premium|    E|    SI1| 59.8| 61.0|2400.0|3.89|3.84|2.31|\n",
      "| 0.23|     Good|    E|    VS1| 56.9| 65.0| 327.0|4.05|4.07|2.31|\n",
      "| 0.29|  Premium|    I|    VS2| 62.4| 58.0| 334.0| 4.2|4.23|2.63|\n",
      "| 0.31|     Good|    J|    SI2| 61.8| 58.0| 335.0|4.34|4.35|2.75|\n",
      "| 0.24|Very Good|    J|   VVS2| 62.8| 57.0| 336.0|3.94|3.96|2.48|\n",
      "| 0.24|Very Good|    I|   VVS1| 62.3| 57.0| 336.0|3.95|3.98|2.47|\n",
      "|  0.7|Very Good|    H|    SI1| 61.9| 55.0| 337.0|4.07|4.11|2.53|\n",
      "| 0.22|     Fair|    E|   null| 65.1| 61.0| 337.0|3.87|3.78|2.49|\n",
      "| 0.23|Very Good|    H|    VS1| 59.4| 61.0| 338.0| 4.0|4.05|2.39|\n",
      "|  0.3|     Good|    J|    SI1| 64.0| 55.0| 339.0|4.25|4.28|2.73|\n",
      "| 0.23|    Ideal|    J|    VS1| 62.8| 56.0| 340.0|3.93| 3.9|2.46|\n",
      "| 0.22|  Premium|    F|    SI1| 60.4| 61.0| 342.0|3.88|3.84|2.33|\n",
      "| 0.31|    Ideal|    J|    SI2| 62.2| 54.0| 344.0|4.35|4.37|2.71|\n",
      "|  0.2|  Premium|    E|    SI2| 60.2| 62.0| 345.0|3.79|3.75|2.27|\n",
      "+-----+---------+-----+-------+-----+-----+------+----+----+----+\n",
      "only showing top 15 rows\n",
      "\n"
     ]
    }
   ],
   "source": [
    "Imputer(\n",
    "    inputCols=float_cols, \n",
    "    outputCols=[\"{}\".format(c) for c in float_cols]\n",
    "    ).setStrategy(\"median\").fit(df).transform(df).show(15)"
   ]
  },
  {
   "cell_type": "markdown",
   "metadata": {},
   "source": [
    "# Filtering rows"
   ]
  },
  {
   "cell_type": "code",
   "execution_count": 72,
   "metadata": {},
   "outputs": [
    {
     "name": "stdout",
     "output_type": "stream",
     "text": [
      "+-----+-------+-----+-------+-----+-----+------+----+----+----+\n",
      "|carat|    cut|color|clarity|depth|table| price|   x|   y|   z|\n",
      "+-----+-------+-----+-------+-----+-----+------+----+----+----+\n",
      "| 0.23|   Good|    E|    VS1| 56.9| 65.0| 327.0|4.05|4.07|2.31|\n",
      "| 0.26|   Good|    E|   VVS1| 57.9| 60.0| 554.0|4.22|4.25|2.45|\n",
      "| 0.86|   Fair|    E|    SI2| 55.1| 69.0|2757.0|6.45|6.33|3.52|\n",
      "|  0.7|   Good|    E|    VS2| 57.5| 58.0|2759.0|5.85| 5.9|3.38|\n",
      "|  0.7|Premium|    D|    VS2| 58.0| 62.0|2773.0|5.87|5.78|3.38|\n",
      "+-----+-------+-----+-------+-----+-----+------+----+----+----+\n",
      "only showing top 5 rows\n",
      "\n"
     ]
    }
   ],
   "source": [
    "df.filter(\"depth <= 58\").show(5)"
   ]
  },
  {
   "cell_type": "code",
   "execution_count": 73,
   "metadata": {},
   "outputs": [
    {
     "name": "stdout",
     "output_type": "stream",
     "text": [
      "+-----+-------+-----+-------+-----+-----+------+----+----+----+\n",
      "|carat|    cut|color|clarity|depth|table| price|   x|   y|   z|\n",
      "+-----+-------+-----+-------+-----+-----+------+----+----+----+\n",
      "| 0.23|   Good|    E|    VS1| 56.9| 65.0| 327.0|4.05|4.07|2.31|\n",
      "| 0.26|   Good|    E|   VVS1| 57.9| 60.0| 554.0|4.22|4.25|2.45|\n",
      "| 0.86|   Fair|    E|    SI2| 55.1| 69.0|2757.0|6.45|6.33|3.52|\n",
      "|  0.7|   Good|    E|    VS2| 57.5| 58.0|2759.0|5.85| 5.9|3.38|\n",
      "|  0.7|Premium|    D|    VS2| 58.0| 62.0|2773.0|5.87|5.78|3.38|\n",
      "+-----+-------+-----+-------+-----+-----+------+----+----+----+\n",
      "only showing top 5 rows\n",
      "\n"
     ]
    }
   ],
   "source": [
    "df.filter(df['depth'] <= 58).show(5)"
   ]
  },
  {
   "cell_type": "code",
   "execution_count": 77,
   "metadata": {},
   "outputs": [
    {
     "name": "stdout",
     "output_type": "stream",
     "text": [
      "+-----+-------+-----+-------+-----+-----+------+----+----+----+\n",
      "|carat|    cut|color|clarity|depth|table| price|   x|   y|   z|\n",
      "+-----+-------+-----+-------+-----+-----+------+----+----+----+\n",
      "| 0.23|   Good|    E|    VS1| 56.9| 65.0| 327.0|4.05|4.07|2.31|\n",
      "| 0.26|   Good|    E|   VVS1| 57.9| 60.0| 554.0|4.22|4.25|2.45|\n",
      "| 0.86|   Fair|    E|    SI2| 55.1| 69.0|2757.0|6.45|6.33|3.52|\n",
      "|  0.7|   Good|    E|    VS2| 57.5| 58.0|2759.0|5.85| 5.9|3.38|\n",
      "|  0.7|Premium|    D|    VS2| 58.0| 62.0|2773.0|5.87|5.78|3.38|\n",
      "+-----+-------+-----+-------+-----+-----+------+----+----+----+\n",
      "only showing top 5 rows\n",
      "\n"
     ]
    }
   ],
   "source": [
    "df.filter((df['depth'] <= 58) | (df['depth'] >= 70)).show(5)"
   ]
  },
  {
   "cell_type": "code",
   "execution_count": 80,
   "metadata": {},
   "outputs": [
    {
     "name": "stdout",
     "output_type": "stream",
     "text": [
      "+-----+---------+-----+-------+-----+-----+------+----+----+----+\n",
      "|carat|      cut|color|clarity|depth|table| price|   x|   y|   z|\n",
      "+-----+---------+-----+-------+-----+-----+------+----+----+----+\n",
      "|  0.6|Very Good|    G|     IF| 61.6| 56.0|2800.0|5.43|5.46|3.35|\n",
      "|  0.9|     Good|    I|    SI2| 62.2| 59.0|2800.0|6.07|6.11|3.79|\n",
      "|  0.7|  Premium|    E|    VS1| 62.2| 58.0|2800.0| 5.6|5.66| 3.5|\n",
      "|  0.9|Very Good|    I|    SI2| 61.3| 56.0|2800.0|6.17|6.23| 3.8|\n",
      "| 0.83|    Ideal|    G|    SI1| 62.3| 57.0|2800.0|5.99|6.08|3.76|\n",
      "+-----+---------+-----+-------+-----+-----+------+----+----+----+\n",
      "only showing top 5 rows\n",
      "\n"
     ]
    }
   ],
   "source": [
    "df.filter((df['depth'] <= 65) & (df['price'] >= 2800)).show(5)"
   ]
  },
  {
   "cell_type": "code",
   "execution_count": 82,
   "metadata": {},
   "outputs": [
    {
     "name": "stdout",
     "output_type": "stream",
     "text": [
      "+-----+---------+-----+-------+-----+-----+------+----+----+----+\n",
      "|carat|      cut|color|clarity|depth|table| price|   x|   y|   z|\n",
      "+-----+---------+-----+-------+-----+-----+------+----+----+----+\n",
      "|  0.6|Very Good|    G|     IF| 61.6| 56.0|2800.0|5.43|5.46|3.35|\n",
      "| 0.83|    Ideal|    G|    SI1| 62.3| 57.0|2800.0|5.99|6.08|3.76|\n",
      "| 0.83|    Ideal|    G|    SI1| 61.8| 57.0|2800.0|6.03|6.07|3.74|\n",
      "| 0.74|  Premium|    G|    VS1| 62.9| 60.0|2800.0|5.74|5.68|3.59|\n",
      "| 0.61|    Ideal|    G|     IF| 62.3| 56.0|2800.0|5.43|5.45|3.39|\n",
      "+-----+---------+-----+-------+-----+-----+------+----+----+----+\n",
      "only showing top 5 rows\n",
      "\n"
     ]
    }
   ],
   "source": [
    "df.filter((df['depth'] <= 65) & (df['price'] >= 2800) & (df[\"color\"] == \"G\")).show(5)"
   ]
  },
  {
   "cell_type": "markdown",
   "metadata": {},
   "source": [
    "## Negating booleans with the `~` operator"
   ]
  },
  {
   "cell_type": "code",
   "execution_count": 83,
   "metadata": {},
   "outputs": [
    {
     "name": "stdout",
     "output_type": "stream",
     "text": [
      "+-----+---------+-----+-------+-----+-----+-----+----+----+----+\n",
      "|carat|      cut|color|clarity|depth|table|price|   x|   y|   z|\n",
      "+-----+---------+-----+-------+-----+-----+-----+----+----+----+\n",
      "| 0.23|Very Good|    G|   VVS2| 60.4| 58.0|354.0|3.97|4.01|2.41|\n",
      "| 0.23|    Ideal|    G|    VS1| 61.9| 54.0|404.0|3.93|3.95|2.44|\n",
      "| 0.28|    Ideal|    G|   VVS2| 61.4| 56.0|553.0|4.19|4.22|2.58|\n",
      "| 0.31|Very Good|    G|    SI1| 63.3| 57.0|553.0|4.33| 4.3|2.73|\n",
      "| 0.31|  Premium|    G|    SI1| 61.8| 58.0|553.0|4.35|4.32|2.68|\n",
      "+-----+---------+-----+-------+-----+-----+-----+----+----+----+\n",
      "only showing top 5 rows\n",
      "\n"
     ]
    }
   ],
   "source": [
    "df.filter((df['depth'] <= 65) & ~(df['price'] >= 2800) & (df[\"color\"] == \"G\")).show(5)"
   ]
  },
  {
   "cell_type": "markdown",
   "metadata": {},
   "source": [
    "# Aggregation operations"
   ]
  },
  {
   "cell_type": "markdown",
   "metadata": {},
   "source": [
    "Notice that when aggregating without specifying a column, `pyspark` recognizes only the numeric ones and computes the statistical operation for only those."
   ]
  },
  {
   "cell_type": "code",
   "execution_count": 84,
   "metadata": {},
   "outputs": [
    {
     "name": "stderr",
     "output_type": "stream",
     "text": []
    },
    {
     "name": "stdout",
     "output_type": "stream",
     "text": [
      "+---------+------------------+-----------------+------------------+------------------+-----------------+-----------------+------------------+\n",
      "|      cut|        avg(carat)|       avg(depth)|        avg(table)|        avg(price)|           avg(x)|           avg(y)|            avg(z)|\n",
      "+---------+------------------+-----------------+------------------+------------------+-----------------+-----------------+------------------+\n",
      "|  Premium|0.8919548964733383| 61.2646726240803| 58.74609527936416|4584.5664974619285| 5.97388731781595|5.944878543977969|3.6471242114422924|\n",
      "|    Ideal|0.7028369900618932|61.70940094928742|  55.9516681366512| 3457.541970210199|5.507450698343484|5.520079810681653|3.4014481926593225|\n",
      "|     Good|0.8491846683696732|62.36568799655615| 58.69463921992865| 3928.864451691806|5.838785161027321|5.850743986954751|3.6395067264573817|\n",
      "|     Fair|1.0461366415301465| 64.0416770484877| 59.05378881892803| 4358.757763975155|6.246894409937905| 6.18265217391304|3.9827701863353964|\n",
      "|Very Good|0.8064266178519824|61.81827512803289|57.956149643846075|3981.7598907465654|5.740696076808465|5.770025658003609| 3.559801357391168|\n",
      "+---------+------------------+-----------------+------------------+------------------+-----------------+-----------------+------------------+\n",
      "\n"
     ]
    },
    {
     "name": "stderr",
     "output_type": "stream",
     "text": []
    }
   ],
   "source": [
    "df.groupBy('cut').mean().show()"
   ]
  },
  {
   "cell_type": "code",
   "execution_count": 85,
   "metadata": {},
   "outputs": [
    {
     "name": "stdout",
     "output_type": "stream",
     "text": [
      "+---------+-----+\n",
      "|      cut|count|\n",
      "+---------+-----+\n",
      "|  Premium|13791|\n",
      "|    Ideal|21551|\n",
      "|     Good| 4906|\n",
      "|     Fair| 1610|\n",
      "|Very Good|12082|\n",
      "+---------+-----+\n",
      "\n"
     ]
    }
   ],
   "source": [
    "df.groupBy('cut').count().show()"
   ]
  },
  {
   "cell_type": "code",
   "execution_count": 89,
   "metadata": {},
   "outputs": [
    {
     "name": "stdout",
     "output_type": "stream",
     "text": [
      "+------+------+----------+-----------------+------------------+\n",
      "|max(x)|min(y)|count(cut)|       sum(carat)|     stddev(table)|\n",
      "+------+------+----------+-----------------+------------------+\n",
      "| 10.74|   0.0|     53940|43040.60989624262|2.2344905638396657|\n",
      "+------+------+----------+-----------------+------------------+\n",
      "\n"
     ]
    }
   ],
   "source": [
    "df.agg(\n",
    "    {'carat':'sum', 'cut':'count','table':'std','x':'max','y':'min'}\n",
    "    ).show()"
   ]
  },
  {
   "cell_type": "markdown",
   "metadata": {},
   "source": [
    "# Pivoting\n",
    "\n",
    "One point that I found intriguing in `pyspark` is that there's no simple implementationg for pivoting without aggregating, like with `R` `pivot_wider` or `pivot_longer` functions. So here I'll just show how to do it with aggregation function, mostly because at this point I just don't know how to pivot with agg."
   ]
  },
  {
   "cell_type": "code",
   "execution_count": 111,
   "metadata": {},
   "outputs": [
    {
     "name": "stdout",
     "output_type": "stream",
     "text": [
      "+-----+-------+-----+\n",
      "|color|clarity|table|\n",
      "+-----+-------+-----+\n",
      "| null|    SI2| 55.0|\n",
      "|    E|    SI1| 61.0|\n",
      "|    E|    VS1| 65.0|\n",
      "|    I|    VS2| 58.0|\n",
      "|    J|    SI2| 58.0|\n",
      "+-----+-------+-----+\n",
      "only showing top 5 rows\n",
      "\n"
     ]
    }
   ],
   "source": [
    "df2 = df.select(*asd_cols)\n",
    "df2.show(5)"
   ]
  },
  {
   "cell_type": "code",
   "execution_count": 113,
   "metadata": {},
   "outputs": [
    {
     "name": "stdout",
     "output_type": "stream",
     "text": [
      "+-------+------------------+------------------+------------------+-----------------+------------------+------------------+------------------+\n",
      "|clarity|                 D|                 E|                 F|                G|                 H|                 I|                 J|\n",
      "+-------+------------------+------------------+------------------+-----------------+------------------+------------------+------------------+\n",
      "|   VVS2|  57.1432188009914| 57.13451060228704| 56.99897435506185|56.92224531642943|56.921217115301836| 56.94657535291698| 57.72290074006292|\n",
      "|    SI1| 57.55448871819491| 57.63235778997284|57.783481936228775|57.62525303836776| 57.64918681218074|  57.7197331444601|57.746800008138024|\n",
      "|     IF| 57.36986301369863|56.946835433380514| 56.57896104292436|56.31791483113069|56.319397993311036| 56.49930070997118| 57.01960784313726|\n",
      "|     I1|58.333333333333336| 59.25588233798158| 57.93356643356643|58.00600001017253|58.238271595519265| 58.28260869565217|             58.54|\n",
      "|   VVS1| 56.82460317157564|57.277743909417126|56.684468661731856|56.76646647104869|56.753675216283554| 57.05915491883184|57.374324334634316|\n",
      "|    VS2| 56.99204478716246| 57.32608343242585| 57.34143570930727|57.43212611877416| 57.64692635051521| 57.73567151085141|57.864979473902004|\n",
      "|    SI2| 58.03591240931601| 57.97289719982682|57.958980738116466|57.71892764463597| 57.89622520988596|57.918421046775684| 58.14279749796634|\n",
      "|    VS1| 57.08851064587316|57.209445747893646|57.318108502720804| 57.2587057731671|    57.47408041126|57.373804580149184|  57.6291512985511|\n",
      "+-------+------------------+------------------+------------------+-----------------+------------------+------------------+------------------+\n",
      "\n"
     ]
    }
   ],
   "source": [
    "df3 = df2.dropna().groupBy('clarity').pivot('color').mean()\n",
    "df3.show()"
   ]
  },
  {
   "cell_type": "markdown",
   "metadata": {},
   "source": [
    "## Unpivoting\n",
    "\n",
    "From [sparkbyexamples](https://sparkbyexamples.com/pyspark/pyspark-pivot-and-unpivot-dataframe/)\n",
    "\n",
    "> PySpark SQL doesn’t have unpivot function hence will use the stack() function. "
   ]
  },
  {
   "cell_type": "code",
   "execution_count": 117,
   "metadata": {},
   "outputs": [
    {
     "name": "stdout",
     "output_type": "stream",
     "text": [
      "+-------+---+------------------+\n",
      "|clarity|Cut|              Mean|\n",
      "+-------+---+------------------+\n",
      "|   VVS2|  D|  57.1432188009914|\n",
      "|   VVS2|  E| 57.13451060228704|\n",
      "|   VVS2|  F| 56.99897435506185|\n",
      "|   VVS2|  G| 56.92224531642943|\n",
      "|   VVS2|  H|56.921217115301836|\n",
      "|   VVS2|  I| 56.94657535291698|\n",
      "|   VVS2|  J| 57.72290074006292|\n",
      "|    SI1|  D| 57.55448871819491|\n",
      "|    SI1|  E| 57.63235778997284|\n",
      "|    SI1|  F|57.783481936228775|\n",
      "|    SI1|  G| 57.62525303836776|\n",
      "|    SI1|  H| 57.64918681218074|\n",
      "|    SI1|  I|  57.7197331444601|\n",
      "|    SI1|  J|57.746800008138024|\n",
      "|     IF|  D| 57.36986301369863|\n",
      "|     IF|  E|56.946835433380514|\n",
      "|     IF|  F| 56.57896104292436|\n",
      "|     IF|  G| 56.31791483113069|\n",
      "|     IF|  H|56.319397993311036|\n",
      "|     IF|  I| 56.49930070997118|\n",
      "+-------+---+------------------+\n",
      "only showing top 20 rows\n",
      "\n"
     ]
    }
   ],
   "source": [
    "from pyspark.sql.functions import expr\n",
    "\n",
    "unpivotExpr = \"stack(7, 'D', D, 'E', E, 'F', F,'G',G, 'H', H,'I',I,'J',J) as (Cut,Mean)\"\n",
    "unPivotDF = df3.select(\"clarity\", expr(unpivotExpr))\n",
    "unPivotDF.show()"
   ]
  },
  {
   "cell_type": "code",
   "execution_count": null,
   "metadata": {},
   "outputs": [],
   "source": []
  }
 ],
 "metadata": {
  "interpreter": {
   "hash": "7037a25f4fe077c1e1c04d2d2e8fdb300af47b3ac0d99a576e998498f574b554"
  },
  "kernelspec": {
   "display_name": "Python 3.9.7 64-bit ('pyspark_test': conda)",
   "name": "python3"
  },
  "language_info": {
   "codemirror_mode": {
    "name": "ipython",
    "version": 3
   },
   "file_extension": ".py",
   "mimetype": "text/x-python",
   "name": "python",
   "nbconvert_exporter": "python",
   "pygments_lexer": "ipython3",
   "version": "3.9.7"
  }
 },
 "nbformat": 4,
 "nbformat_minor": 5
}
