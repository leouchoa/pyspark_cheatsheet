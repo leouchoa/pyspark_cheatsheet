{
 "cells": [
  {
   "cell_type": "code",
   "execution_count": 22,
   "metadata": {},
   "outputs": [],
   "source": [
    "from pyspark.sql import SparkSession\n",
    "from pyspark.sql.functions import col,when\n",
    "import pyspark.sql.types as tp\n",
    "\n",
    "from pyspark.ml import Pipeline\n",
    "from pyspark.ml.feature import OneHotEncoder\n",
    "from pyspark.ml.feature import VectorAssembler\n",
    "from pyspark.ml.feature import StringIndexer\n",
    "\n",
    "spark=SparkSession.builder.appName('pyspark_test').getOrCreate()"
   ]
  },
  {
   "cell_type": "markdown",
   "metadata": {},
   "source": [
    "Notice that the `tp.StructField` for a variable must appear on the order they appear on the csv, which means that if we change the only the specification order of `carat` and `cut` the dataset wont be read correctly."
   ]
  },
  {
   "cell_type": "code",
   "execution_count": 25,
   "metadata": {},
   "outputs": [],
   "source": [
    "my_schema = tp.StructType([\n",
    "    tp.StructField(name= 'carat',      dataType= tp.DoubleType(),   nullable= True),\n",
    "    tp.StructField(name= 'cut',        dataType= tp.StringType(),    nullable= True),\n",
    "    tp.StructField(name= 'color',      dataType= tp.StringType(),   nullable= True),\n",
    "    tp.StructField(name= 'clarity',    dataType= tp.StringType(),    nullable= True),\n",
    "    tp.StructField(name= 'depth',      dataType= tp.DoubleType(),    nullable= True),\n",
    "    tp.StructField(name= 'table',      dataType= tp.DoubleType(),    nullable= True),\n",
    "    tp.StructField(name= 'price',      dataType= tp.DoubleType(),   nullable= True),\n",
    "    tp.StructField(name= 'x',          dataType= tp.DoubleType(),   nullable= True),\n",
    "    tp.StructField(name= 'y',          dataType= tp.DoubleType(),   nullable= True),\n",
    "    tp.StructField(name= 'z',          dataType= tp.DoubleType(),   nullable= True)\n",
    "])"
   ]
  },
  {
   "cell_type": "code",
   "execution_count": 26,
   "metadata": {},
   "outputs": [
    {
     "name": "stdout",
     "output_type": "stream",
     "text": [
      "+-----+---------+-----+-------+-----+-----+-----+----+----+----+\n",
      "|carat|      cut|color|clarity|depth|table|price|   x|   y|   z|\n",
      "+-----+---------+-----+-------+-----+-----+-----+----+----+----+\n",
      "| 0.23|     Good|    E|    VS1| 56.9| 65.0|327.0|4.05|4.07|2.31|\n",
      "| 0.29|  Premium|    I|    VS2| 62.4| 58.0|334.0| 4.2|4.23|2.63|\n",
      "| 0.24|Very Good|    J|   VVS2| 62.8| 57.0|336.0|3.94|3.96|2.48|\n",
      "| 0.24|Very Good|    I|   VVS1| 62.3| 57.0|336.0|3.95|3.98|2.47|\n",
      "| 0.23|Very Good|    H|    VS1| 59.4| 61.0|338.0| 4.0|4.05|2.39|\n",
      "|  0.3|     Good|    J|    SI1| 64.0| 55.0|339.0|4.25|4.28|2.73|\n",
      "| 0.23|    Ideal|    J|    VS1| 62.8| 56.0|340.0|3.93| 3.9|2.46|\n",
      "| 0.22|  Premium|    F|    SI1| 60.4| 61.0|342.0|3.88|3.84|2.33|\n",
      "| 0.31|    Ideal|    J|    SI2| 62.2| 54.0|344.0|4.35|4.37|2.71|\n",
      "|  0.2|  Premium|    E|    SI2| 60.2| 62.0|345.0|3.79|3.75|2.27|\n",
      "| 0.32|  Premium|    E|     I1| 60.9| 58.0|345.0|4.38|4.42|2.68|\n",
      "|  0.3|    Ideal|    I|    SI2| 62.0| 54.0|348.0|4.31|4.34|2.68|\n",
      "|  0.3|     Good|    J|    SI1| 63.4| 54.0|351.0|4.23|4.29| 2.7|\n",
      "|  0.3|     Good|    J|    SI1| 63.8| 56.0|351.0|4.23|4.26|2.71|\n",
      "|  0.3|Very Good|    J|    SI1| 62.7| 59.0|351.0|4.21|4.27|2.66|\n",
      "+-----+---------+-----+-------+-----+-----+-----+----+----+----+\n",
      "only showing top 15 rows\n",
      "\n"
     ]
    }
   ],
   "source": [
    "df = spark.read.csv(\n",
    "    'ggplot2_diamonds.csv',\n",
    "    sep=',',\n",
    "    header=True,\n",
    "    schema= my_schema,\n",
    "    nullValue='NA'\n",
    "    )\n",
    "\n",
    "df = df.dropna()\n",
    "\n",
    "df.show(15)"
   ]
  },
  {
   "cell_type": "code",
   "execution_count": 27,
   "metadata": {},
   "outputs": [],
   "source": [
    "str_cols = ['color','cut','clarity']\n",
    "float_cols = ['carat','depth','table','price','x','y','z']"
   ]
  },
  {
   "cell_type": "code",
   "execution_count": 28,
   "metadata": {},
   "outputs": [],
   "source": [
    "idx_stage = StringIndexer(\n",
    "    inputCols=str_cols,\n",
    "    outputCols=[f\"{x}_idxd\" for x in str_cols]\n",
    "    )"
   ]
  },
  {
   "cell_type": "code",
   "execution_count": 29,
   "metadata": {},
   "outputs": [],
   "source": [
    "ohe_stage = OneHotEncoder(\n",
    "    inputCols=[f\"{x}_idxd\" for x in str_cols], \n",
    "    outputCols=[f\"{x}_onehot\" for x in str_cols])\n"
   ]
  },
  {
   "cell_type": "code",
   "execution_count": 30,
   "metadata": {},
   "outputs": [],
   "source": [
    "assemble_stage = VectorAssembler(\n",
    "    inputCols = [f\"{x}_onehot\" for x in str_cols] + float_cols,\n",
    "    outputCol = 'model_features'\n",
    "    )"
   ]
  },
  {
   "cell_type": "code",
   "execution_count": 31,
   "metadata": {},
   "outputs": [
    {
     "data": {
      "text/plain": [
       "['color_onehot',\n",
       " 'cut_onehot',\n",
       " 'clarity_onehot',\n",
       " 'carat',\n",
       " 'depth',\n",
       " 'table',\n",
       " 'price',\n",
       " 'x',\n",
       " 'y',\n",
       " 'z']"
      ]
     },
     "execution_count": 31,
     "metadata": {},
     "output_type": "execute_result"
    }
   ],
   "source": [
    "[f\"{x}_onehot\" for x in str_cols] + float_cols"
   ]
  },
  {
   "cell_type": "code",
   "execution_count": 32,
   "metadata": {},
   "outputs": [
    {
     "name": "stderr",
     "output_type": "stream",
     "text": []
    },
    {
     "name": "stdout",
     "output_type": "stream",
     "text": [
      "+-----+---------+-----+-------+-----+-----+-----+----+----+----+----------+--------+------------+-------------+-------------+--------------+--------------------+\n",
      "|carat|      cut|color|clarity|depth|table|price|   x|   y|   z|color_idxd|cut_idxd|clarity_idxd| color_onehot|   cut_onehot|clarity_onehot|      model_features|\n",
      "+-----+---------+-----+-------+-----+-----+-----+----+----+----+----------+--------+------------+-------------+-------------+--------------+--------------------+\n",
      "| 0.23|     Good|    E|    VS1| 56.9| 65.0|327.0|4.05|4.07|2.31|       1.0|     3.0|         3.0|(6,[1],[1.0])|(4,[3],[1.0])| (7,[3],[1.0])|(24,[1,9,13,17,18...|\n",
      "| 0.29|  Premium|    I|    VS2| 62.4| 58.0|334.0| 4.2|4.23|2.63|       5.0|     1.0|         1.0|(6,[5],[1.0])|(4,[1],[1.0])| (7,[1],[1.0])|(24,[5,7,11,17,18...|\n",
      "| 0.24|Very Good|    J|   VVS2| 62.8| 57.0|336.0|3.94|3.96|2.48|       6.0|     2.0|         4.0|    (6,[],[])|(4,[2],[1.0])| (7,[4],[1.0])|(24,[8,14,17,18,1...|\n",
      "| 0.24|Very Good|    I|   VVS1| 62.3| 57.0|336.0|3.95|3.98|2.47|       5.0|     2.0|         5.0|(6,[5],[1.0])|(4,[2],[1.0])| (7,[5],[1.0])|(24,[5,8,15,17,18...|\n",
      "| 0.23|Very Good|    H|    VS1| 59.4| 61.0|338.0| 4.0|4.05|2.39|       3.0|     2.0|         3.0|(6,[3],[1.0])|(4,[2],[1.0])| (7,[3],[1.0])|(24,[3,8,13,17,18...|\n",
      "|  0.3|     Good|    J|    SI1| 64.0| 55.0|339.0|4.25|4.28|2.73|       6.0|     3.0|         0.0|    (6,[],[])|(4,[3],[1.0])| (7,[0],[1.0])|(24,[9,10,17,18,1...|\n",
      "| 0.23|    Ideal|    J|    VS1| 62.8| 56.0|340.0|3.93| 3.9|2.46|       6.0|     0.0|         3.0|    (6,[],[])|(4,[0],[1.0])| (7,[3],[1.0])|(24,[6,13,17,18,1...|\n",
      "| 0.22|  Premium|    F|    SI1| 60.4| 61.0|342.0|3.88|3.84|2.33|       2.0|     1.0|         0.0|(6,[2],[1.0])|(4,[1],[1.0])| (7,[0],[1.0])|(24,[2,7,10,17,18...|\n",
      "| 0.31|    Ideal|    J|    SI2| 62.2| 54.0|344.0|4.35|4.37|2.71|       6.0|     0.0|         2.0|    (6,[],[])|(4,[0],[1.0])| (7,[2],[1.0])|(24,[6,12,17,18,1...|\n",
      "|  0.2|  Premium|    E|    SI2| 60.2| 62.0|345.0|3.79|3.75|2.27|       1.0|     1.0|         2.0|(6,[1],[1.0])|(4,[1],[1.0])| (7,[2],[1.0])|(24,[1,7,12,17,18...|\n",
      "| 0.32|  Premium|    E|     I1| 60.9| 58.0|345.0|4.38|4.42|2.68|       1.0|     1.0|         7.0|(6,[1],[1.0])|(4,[1],[1.0])|     (7,[],[])|(24,[1,7,17,18,19...|\n",
      "|  0.3|    Ideal|    I|    SI2| 62.0| 54.0|348.0|4.31|4.34|2.68|       5.0|     0.0|         2.0|(6,[5],[1.0])|(4,[0],[1.0])| (7,[2],[1.0])|(24,[5,6,12,17,18...|\n",
      "|  0.3|     Good|    J|    SI1| 63.4| 54.0|351.0|4.23|4.29| 2.7|       6.0|     3.0|         0.0|    (6,[],[])|(4,[3],[1.0])| (7,[0],[1.0])|(24,[9,10,17,18,1...|\n",
      "|  0.3|     Good|    J|    SI1| 63.8| 56.0|351.0|4.23|4.26|2.71|       6.0|     3.0|         0.0|    (6,[],[])|(4,[3],[1.0])| (7,[0],[1.0])|(24,[9,10,17,18,1...|\n",
      "|  0.3|Very Good|    J|    SI1| 62.7| 59.0|351.0|4.21|4.27|2.66|       6.0|     2.0|         0.0|    (6,[],[])|(4,[2],[1.0])| (7,[0],[1.0])|(24,[8,10,17,18,1...|\n",
      "+-----+---------+-----+-------+-----+-----+-----+----+----+----+----------+--------+------------+-------------+-------------+--------------+--------------------+\n",
      "only showing top 15 rows\n",
      "\n"
     ]
    }
   ],
   "source": [
    "ml_pipeline = Pipeline(stages=[\n",
    "    idx_stage,\n",
    "    ohe_stage,\n",
    "    assemble_stage\n",
    "])\n",
    "\n",
    "ml_pipeline.fit(df).transform(df).show(15)"
   ]
  },
  {
   "cell_type": "code",
   "execution_count": null,
   "metadata": {},
   "outputs": [],
   "source": []
  }
 ],
 "metadata": {
  "interpreter": {
   "hash": "7037a25f4fe077c1e1c04d2d2e8fdb300af47b3ac0d99a576e998498f574b554"
  },
  "kernelspec": {
   "display_name": "Python 3.9.7 64-bit ('pyspark_test': conda)",
   "name": "python3"
  },
  "language_info": {
   "codemirror_mode": {
    "name": "ipython",
    "version": 3
   },
   "file_extension": ".py",
   "mimetype": "text/x-python",
   "name": "python",
   "nbconvert_exporter": "python",
   "pygments_lexer": "ipython3",
   "version": "3.9.7"
  },
  "orig_nbformat": 4
 },
 "nbformat": 4,
 "nbformat_minor": 2
}
